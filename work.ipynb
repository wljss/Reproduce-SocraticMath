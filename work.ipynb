{
 "cells": [
  {
   "cell_type": "code",
   "execution_count": 2,
   "id": "ba3c96e2",
   "metadata": {},
   "outputs": [
    {
     "name": "stdout",
     "output_type": "stream",
     "text": [
      "当前使用的是cuda/cpu?: cuda\n"
     ]
    }
   ],
   "source": [
    "import os\n",
    "os.environ['HF_ENDPOINT'] = 'https://hf-mirror.com' #防止无法下载的问题\n",
    "\n",
    "\n",
    "import torch\n",
    "from transformers import (\n",
    "    AutoTokenizer,\n",
    "    AutoModelForCausalLM,\n",
    ")\n",
    "\n",
    "\n",
    "#设置设备\n",
    "device = torch.device(\"cuda\" if torch.cuda.is_available() else \"cpu\")\n",
    "print(f\"当前使用的是cuda/cpu?: {device}\")\n",
    "\n",
    "def load_model_and_tokenizer(): #加载模型和分词器\n",
    "    model_name = \"Qwen/Qwen1.5-7B\"\n",
    "    \n",
    "    #加载tokenizer\n",
    "    tokenizer = AutoTokenizer.from_pretrained(\n",
    "        model_name,\n",
    "        cache_dir='./myModels'\n",
    "    )\n",
    "    if tokenizer.pad_token is None: #pad_token是用来填充较短的序列的\n",
    "        tokenizer.pad_token = tokenizer.eos_token #结束token\n",
    "    \n",
    "    #加载模型\n",
    "    model = AutoModelForCausalLM.from_pretrained(\n",
    "        model_name,\n",
    "        torch_dtype=torch.float16,\n",
    "        device_map=\"auto\", #自动将模型分布到设备上\n",
    "        load_in_4bit=True,  #使用4位量化模型压缩技术，减少模型内存占用，稍微降低性能\n",
    "        trust_remote_code=True, #允许从远程模型代码\n",
    "        cache_dir='./myModels', #下载的模型储存的位置\n",
    "    )\n",
    "    \n",
    "    return model, tokenizer"
   ]
  },
  {
   "cell_type": "code",
   "execution_count": null,
   "id": "167bc494",
   "metadata": {},
   "outputs": [],
   "source": [
    "from peft import LoraConfig, get_peft_model, prepare_model_for_kbit_training\n",
    "\n",
    "def setup_LoRA(model): #初始化LoRA\n",
    "    \n",
    "    model = prepare_model_for_kbit_training(model) #准备模型用于k-bit训练\n",
    "    \n",
    "    \n",
    "    lora_config = LoraConfig( #LoRA配置\n",
    "        r=8, #LoRA秩,很重要的一个参数。r越小训练越快，但拟合能力会下降\n",
    "        lora_alpha=16, #LoRA alpha参数，用于对ΔW进行缩放,通常为LoRA秩的两倍\n",
    "        target_modules=[\"q_proj\", \"v_proj\", \"gate_proj\", \"down_proj\"], #指定在哪些层应用LoRA，分别是注意力机制的Query Projection和Value Projection，前馈神经网络FFN的Gate Projection和Down Projection\n",
    "        lora_dropout=0.1, #正则化，dropout率，防止过拟合，\n",
    "        bias=\"none\", #不训练偏置参数\n",
    "        task_type=\"QUESTION_ANS\", #指定任务类型，这里是问答任务\n",
    "    )\n",
    "    \n",
    "    model = get_peft_model(model, lora_config) #将LoRA适配器应用到原来的模型上\n",
    "\n",
    "    print('-----------------下面是可训练的参数-----------------')\n",
    "    model.print_trainable_parameters() #打印可训练的参数信息\n",
    "    print('-----------------上面是可训练的参数-----------------')\n",
    "    \n",
    "    return model"
   ]
  },
  {
   "cell_type": "code",
   "execution_count": null,
   "id": "d95a7335",
   "metadata": {},
   "outputs": [
    {
     "name": "stdout",
     "output_type": "stream",
     "text": [
      "正在加载模型和分词器\n"
     ]
    },
    {
     "name": "stderr",
     "output_type": "stream",
     "text": [
      "`torch_dtype` is deprecated! Use `dtype` instead!\n",
      "The `load_in_4bit` and `load_in_8bit` arguments are deprecated and will be removed in the future versions. Please, pass a `BitsAndBytesConfig` object in `quantization_config` argument instead.\n",
      "Loading checkpoint shards: 100%|██████████| 4/4 [00:37<00:00,  9.25s/it]\n"
     ]
    }
   ],
   "source": [
    "if __name__ == \"__main__\":\n",
    "    #加载模型和tokenizer\n",
    "    print(\"正在加载模型和分词器\")\n",
    "    model, tokenizer = load_model_and_tokenizer()\n",
    "    print(\"加载完成\")\n",
    "\n",
    "    #初始化LoRA\n",
    "    print(\"正在加载模型和分词器\")\n",
    "    model = setup_LoRA(model)\n",
    "    print(\"初始化完成\")"
   ]
  }
 ],
 "metadata": {
  "kernelspec": {
   "display_name": "fuxian",
   "language": "python",
   "name": "python3"
  },
  "language_info": {
   "codemirror_mode": {
    "name": "ipython",
    "version": 3
   },
   "file_extension": ".py",
   "mimetype": "text/x-python",
   "name": "python",
   "nbconvert_exporter": "python",
   "pygments_lexer": "ipython3",
   "version": "3.10.18"
  }
 },
 "nbformat": 4,
 "nbformat_minor": 5
}
