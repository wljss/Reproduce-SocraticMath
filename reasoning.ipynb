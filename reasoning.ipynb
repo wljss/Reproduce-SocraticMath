{
 "cells": [
  {
   "cell_type": "code",
   "execution_count": 5,
   "id": "9f105d9b",
   "metadata": {},
   "outputs": [
    {
     "name": "stdout",
     "output_type": "stream",
     "text": [
      "当前使用的是cuda/cpu?: cuda\n"
     ]
    }
   ],
   "source": [
    "import torch\n",
    "device = torch.device(\"cuda\" if torch.cuda.is_available() else \"cpu\")\n",
    "print(f\"当前使用的是cuda/cpu?: {device}\")\n",
    "\n",
    "import os\n",
    "os.environ['HF_ENDPOINT'] = 'https://hf-mirror.com'"
   ]
  },
  {
   "cell_type": "code",
   "execution_count": null,
   "id": "0aa4dbc4",
   "metadata": {},
   "outputs": [],
   "source": [
    "from peft import PeftModel\n",
    "from transformers import AutoTokenizer,AutoModelForCausalLM\n",
    "\n",
    "def load_math_teacher_model():\n",
    "\n",
    "    #下面是加载模型，和train里面一样\n",
    "    model_name = \"Qwen/Qwen1.5-7B\"\n",
    "    tokenizer = AutoTokenizer.from_pretrained(\n",
    "        model_name,\n",
    "        cache_dir='./myModels'\n",
    "    )\n",
    "    if tokenizer.pad_token is None: #pad_token是用来填充较短的序列的\n",
    "        tokenizer.pad_token = tokenizer.eos_token #结束token\n",
    "    model = AutoModelForCausalLM.from_pretrained(\n",
    "        model_name,\n",
    "        torch_dtype=torch.float16,\n",
    "        device_map=\"auto\",\n",
    "        load_in_4bit=False,\n",
    "        trust_remote_code=True,\n",
    "        cache_dir='./myModels',\n",
    "    )\n",
    "\n",
    "    #加载LoRA适配器\n",
    "    LoRA_adapter='./qwen1.5-7b-math-teacher'\n",
    "    model=PeftModel.from_pretrained(model,LoRA_adapter)\n",
    "    return model,tokenizer"
   ]
  },
  {
   "cell_type": "code",
   "execution_count": 7,
   "id": "a0c05e17",
   "metadata": {},
   "outputs": [],
   "source": [
    "#回答问题\n",
    "def math_teacher_chat(model,tokenizer,question,max_length=500):\n",
    "\n",
    "    prompt= f\"<|im_start|>user\\n{question}<|im_end|>\\n<|im_start|>assistant\\n\" #对话模板\n",
    "    prompt=tokenizer(prompt,return_tensors='pt').to(device)\n",
    "    \n",
    "    with torch.no_grad():\n",
    "        outputs=model.generate(\n",
    "            **prompt, #**是把字典解包为函数所需要传递的关键字参数\n",
    "            max_length=max_length,\n",
    "            temperature=0.7, #temperature为0会总选择概率最高的token，temperature变大会有随机性\n",
    "            do_sample=True, #采用采样而不是贪婪搜索，do_sample=False的时候会总选择概率最高的token，会忽略temperature\n",
    "            pad_token_id=tokenizer.eos_token_id,\n",
    "            eos_token_id=tokenizer.eos_token_id,\n",
    "            repetition_penalty=1.1, #重复惩罚，避免出现重复的token,为1.0的时候无惩罚，值越大惩罚越大\n",
    "        )\n",
    "        response=tokenizer.decode(outputs[0],skip_special_tokens=True) #skip_special_tokens=True会跳过[PAD]等特殊token，得到干净文本\n",
    "        if 'assistant' in response:\n",
    "            response=response.split('assistant')[-1].strip() #提取回答，去掉历史对话，.strip()用来去除首尾空白字符\n",
    "        return response\n",
    "    "
   ]
  },
  {
   "cell_type": "code",
   "execution_count": null,
   "id": "158b9fd9",
   "metadata": {},
   "outputs": [
    {
     "name": "stderr",
     "output_type": "stream",
     "text": [
      "Loading checkpoint shards: 100%|██████████| 2/2 [00:06<00:00,  3.49s/it]\n",
      "Both `max_new_tokens` (=2048) and `max_length`(=500) seem to have been set. `max_new_tokens` will take precedence. Please refer to the documentation for more information. (https://huggingface.co/docs/transformers/main/en/main_classes/text_generation)\n"
     ]
    },
    {
     "name": "stdout",
     "output_type": "stream",
     "text": [
      "一个长方形长是宽的两倍，周长是36，面积是多少？\n"
     ]
    }
   ],
   "source": [
    "if __name__ == \"__main__\":\n",
    "    model,tokenizer=load_math_teacher_model()\n",
    "\n",
    "    test_questions=[\n",
    "        '一个长方形长是宽的两倍，周长是36，面积是多少？',\n",
    "        '什么是质因数分解？请举例说明'\n",
    "    ]\n",
    "\n",
    "    for question in test_questions:\n",
    "        print(question)\n",
    "        response=math_teacher_chat(model,tokenizer,question)\n",
    "        print(response)\n",
    "        print('-'*25)"
   ]
  }
 ],
 "metadata": {
  "kernelspec": {
   "display_name": "fuxian",
   "language": "python",
   "name": "python3"
  },
  "language_info": {
   "codemirror_mode": {
    "name": "ipython",
    "version": 3
   },
   "file_extension": ".py",
   "mimetype": "text/x-python",
   "name": "python",
   "nbconvert_exporter": "python",
   "pygments_lexer": "ipython3",
   "version": "3.10.18"
  }
 },
 "nbformat": 4,
 "nbformat_minor": 5
}
